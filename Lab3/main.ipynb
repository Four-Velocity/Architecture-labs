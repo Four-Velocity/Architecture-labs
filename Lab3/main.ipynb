{
 "cells": [
  {
   "cell_type": "markdown",
   "source": [
    "# Конвертер\n",
    "Цей код може конвертувати числа між системами числення починаючи з 2, закінчуючи 60\n",
    "\n",
    "## Виконання\n",
    "Створимо класс, який виконує конвертування."
   ],
   "metadata": {
    "collapsed": false,
    "pycharm": {
     "name": "#%% md\n"
    }
   }
  },
  {
   "cell_type": "code",
   "execution_count": 56,
   "outputs": [],
   "source": [
    "class Converter:\n",
    "    translation = (\n",
    "        '0','1','2','3','4','5','6','7','8','9',\n",
    "        'A','B','C','D','E','F','G','H','I','J',\n",
    "        'K','L','M','N','O','P','Q','R','S','T',\n",
    "        'U','V','W','X','Y','Z','a','b','c','d',\n",
    "        'e','f','g','h','i','j','k','l','m','n',\n",
    "        'o','p','q','r','s','t','u','v','w','x',\n",
    "    )\n",
    "\n",
    "    # initialize class\n",
    "    def __init__(self, number: str, base1: int, base2: int):\n",
    "        self.number_b1 = number\n",
    "        self.base1 = base1\n",
    "        self.number_b2 = 0\n",
    "        self.base2 = base2\n",
    "        self.number_b10 = 0\n",
    "\n",
    "    def translate_to_ten(self):\n",
    "        number_arr = [self.translation.index(i) for i in self.number_b1]\n",
    "        number_arr.reverse()\n",
    "        for i, num in zip(range(len(number_arr)), number_arr):\n",
    "            self.number_b10 += num*(self.base1**i)\n",
    "            if num > self.base1-1:\n",
    "                raise ArithmeticError(f\"You cant use '{self.translation[num]}' in {self.base1} system\")\n",
    "\n",
    "    def translate_to_base(self, next = None, result = None ):\n",
    "        if next is None or result is None:\n",
    "\t        next = self.number_b10\n",
    "\t        result = []\n",
    "        if next>=self.base2:\n",
    "            result.append(next % self.base2)\n",
    "            next //= self.base2\n",
    "            self.translate_to_base(next, result)\n",
    "        else:\n",
    "            result.append(next)\n",
    "            result.reverse()\n",
    "            result = list(map(lambda x: self.translation[x], result))\n",
    "            self.number_b2 = int(''.join(result))\n",
    "\n",
    "    def full_translate(self):\n",
    "        self.translate_to_ten()\n",
    "        self.translate_to_base()"
   ],
   "metadata": {
    "collapsed": false,
    "pycharm": {
     "name": "#%%\n"
    }
   }
  },
  {
   "cell_type": "markdown",
   "source": [
    "Отримаємо данні вводу"
   ],
   "metadata": {
    "collapsed": false
   }
  },
  {
   "cell_type": "code",
   "execution_count": 57,
   "outputs": [],
   "source": [
    "num = input(\"Введіть число використовуючи 0-9, A-Z, a-x: \")\n",
    "b1 = input(\"Введіть у якій системі знаходиться число (2-60): \")\n",
    "b2 = input(\"Введіть у яку систему ви хочете перевести число: \")"
   ],
   "metadata": {
    "collapsed": false,
    "pycharm": {
     "name": "#%%\n"
    }
   }
  },
  {
   "cell_type": "markdown",
   "source": [
    "Ініціюємо конвертер, та виконаємо конвертацію"
   ],
   "metadata": {
    "collapsed": false
   }
  },
  {
   "cell_type": "code",
   "execution_count": 58,
   "outputs": [
    {
     "ename": "ArithmeticError",
     "evalue": "You cant use 'f' in 15 system",
     "output_type": "error",
     "traceback": [
      "\u001B[1;31m---------------------------------------------------------------------------\u001B[0m",
      "\u001B[1;31mArithmeticError\u001B[0m                           Traceback (most recent call last)",
      "\u001B[1;32m<ipython-input-58-139fe0426e1a>\u001B[0m in \u001B[0;36m<module>\u001B[1;34m\u001B[0m\n\u001B[0;32m      1\u001B[0m \u001B[0mconverter\u001B[0m \u001B[1;33m=\u001B[0m \u001B[0mConverter\u001B[0m\u001B[1;33m(\u001B[0m\u001B[0mnum\u001B[0m\u001B[1;33m,\u001B[0m \u001B[0mint\u001B[0m\u001B[1;33m(\u001B[0m\u001B[0mb1\u001B[0m\u001B[1;33m)\u001B[0m\u001B[1;33m,\u001B[0m \u001B[0mint\u001B[0m\u001B[1;33m(\u001B[0m\u001B[0mb2\u001B[0m\u001B[1;33m)\u001B[0m\u001B[1;33m)\u001B[0m\u001B[1;33m\u001B[0m\u001B[1;33m\u001B[0m\u001B[0m\n\u001B[1;32m----> 2\u001B[1;33m \u001B[0mconverter\u001B[0m\u001B[1;33m.\u001B[0m\u001B[0mfull_translate\u001B[0m\u001B[1;33m(\u001B[0m\u001B[1;33m)\u001B[0m\u001B[1;33m\u001B[0m\u001B[1;33m\u001B[0m\u001B[0m\n\u001B[0m\u001B[0;32m      3\u001B[0m \u001B[1;33m\u001B[0m\u001B[0m\n",
      "\u001B[1;32m<ipython-input-56-a564951fa8b7>\u001B[0m in \u001B[0;36mfull_translate\u001B[1;34m(self)\u001B[0m\n\u001B[0;32m     40\u001B[0m \u001B[1;33m\u001B[0m\u001B[0m\n\u001B[0;32m     41\u001B[0m     \u001B[1;32mdef\u001B[0m \u001B[0mfull_translate\u001B[0m\u001B[1;33m(\u001B[0m\u001B[0mself\u001B[0m\u001B[1;33m)\u001B[0m\u001B[1;33m:\u001B[0m\u001B[1;33m\u001B[0m\u001B[1;33m\u001B[0m\u001B[0m\n\u001B[1;32m---> 42\u001B[1;33m         \u001B[0mself\u001B[0m\u001B[1;33m.\u001B[0m\u001B[0mtranslate_to_ten\u001B[0m\u001B[1;33m(\u001B[0m\u001B[1;33m)\u001B[0m\u001B[1;33m\u001B[0m\u001B[1;33m\u001B[0m\u001B[0m\n\u001B[0m\u001B[0;32m     43\u001B[0m         \u001B[0mself\u001B[0m\u001B[1;33m.\u001B[0m\u001B[0mtranslate_to_base\u001B[0m\u001B[1;33m(\u001B[0m\u001B[1;33m)\u001B[0m\u001B[1;33m\u001B[0m\u001B[1;33m\u001B[0m\u001B[0m\n\u001B[0;32m     44\u001B[0m \u001B[1;33m\u001B[0m\u001B[0m\n",
      "\u001B[1;32m<ipython-input-56-a564951fa8b7>\u001B[0m in \u001B[0;36mtranslate_to_ten\u001B[1;34m(self)\u001B[0m\n\u001B[0;32m     23\u001B[0m             \u001B[0mself\u001B[0m\u001B[1;33m.\u001B[0m\u001B[0mnumber_b10\u001B[0m \u001B[1;33m+=\u001B[0m \u001B[0mnum\u001B[0m\u001B[1;33m*\u001B[0m\u001B[1;33m(\u001B[0m\u001B[0mself\u001B[0m\u001B[1;33m.\u001B[0m\u001B[0mbase1\u001B[0m\u001B[1;33m**\u001B[0m\u001B[0mi\u001B[0m\u001B[1;33m)\u001B[0m\u001B[1;33m\u001B[0m\u001B[1;33m\u001B[0m\u001B[0m\n\u001B[0;32m     24\u001B[0m             \u001B[1;32mif\u001B[0m \u001B[0mnum\u001B[0m \u001B[1;33m>\u001B[0m \u001B[0mself\u001B[0m\u001B[1;33m.\u001B[0m\u001B[0mbase1\u001B[0m\u001B[1;33m-\u001B[0m\u001B[1;36m1\u001B[0m\u001B[1;33m:\u001B[0m\u001B[1;33m\u001B[0m\u001B[1;33m\u001B[0m\u001B[0m\n\u001B[1;32m---> 25\u001B[1;33m                 \u001B[1;32mraise\u001B[0m \u001B[0mArithmeticError\u001B[0m\u001B[1;33m(\u001B[0m\u001B[1;34mf\"You cant use '{self.translation[num]}' in {self.base1} system\"\u001B[0m\u001B[1;33m)\u001B[0m\u001B[1;33m\u001B[0m\u001B[1;33m\u001B[0m\u001B[0m\n\u001B[0m\u001B[0;32m     26\u001B[0m \u001B[1;33m\u001B[0m\u001B[0m\n\u001B[0;32m     27\u001B[0m     \u001B[1;32mdef\u001B[0m \u001B[0mtranslate_to_base\u001B[0m\u001B[1;33m(\u001B[0m\u001B[0mself\u001B[0m\u001B[1;33m,\u001B[0m \u001B[0mnext\u001B[0m \u001B[1;33m=\u001B[0m \u001B[1;32mNone\u001B[0m\u001B[1;33m,\u001B[0m \u001B[0mresult\u001B[0m \u001B[1;33m=\u001B[0m \u001B[1;32mNone\u001B[0m \u001B[1;33m)\u001B[0m\u001B[1;33m:\u001B[0m\u001B[1;33m\u001B[0m\u001B[1;33m\u001B[0m\u001B[0m\n",
      "\u001B[1;31mArithmeticError\u001B[0m: You cant use 'f' in 15 system"
     ]
    }
   ],
   "source": [
    "converter = Converter(num, int(b1), int(b2))\n",
    "converter.full_translate()"
   ],
   "metadata": {
    "collapsed": false,
    "pycharm": {
     "name": "#%%\n"
    }
   }
  },
  {
   "cell_type": "markdown",
   "source": [
    "Виведемо результат"
   ],
   "metadata": {
    "collapsed": false
   }
  },
  {
   "cell_type": "code",
   "execution_count": null,
   "outputs": [],
   "source": [
    "print(f'Base_{b1} number: {converter.number_b1}')\n",
    "print(f'Base_{10} number: {converter.number_b10}')\n",
    "print(f'Base_{b2} number: {converter.number_b2}')\n",
    "\n"
   ],
   "metadata": {
    "collapsed": false,
    "pycharm": {
     "name": "#%%\n"
    }
   }
  }
 ],
 "metadata": {
  "kernelspec": {
   "name": "pycharm-9413de9",
   "language": "python",
   "display_name": "PyCharm (SWaA)"
  },
  "language_info": {
   "codemirror_mode": {
    "name": "ipython",
    "version": 2
   },
   "file_extension": ".py",
   "mimetype": "text/x-python",
   "name": "python",
   "nbconvert_exporter": "python",
   "pygments_lexer": "ipython2",
   "version": "2.7.6"
  }
 },
 "nbformat": 4,
 "nbformat_minor": 0
}