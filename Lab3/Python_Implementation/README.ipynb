{
 "cells": [
  {
   "cell_type": "markdown",
   "source": [
    "# Конвертер\n",
    "Цей код може конвертувати числа між системами числення починаючи з 2, закінчуючи 60\n",
    "\n",
    "## Виконання\n",
    "Створимо класс, який виконує конвертування."
   ],
   "metadata": {
    "collapsed": false,
    "pycharm": {
     "name": "#%% md\n"
    }
   }
  },
  {
   "cell_type": "code",
   "execution_count": 491,
   "outputs": [],
   "source": [
    "class Converter:\n",
    "    translation = (\n",
    "        '0','1','2','3','4','5','6','7','8','9',\n",
    "        'A','B','C','D','E','F','G','H','I','J',\n",
    "        'K','L','M','N','O','P','Q','R','S','T',\n",
    "        'U','V','W','X','Y','Z','a','b','c','d',\n",
    "        'e','f','g','h','i','j','k','l','m','n',\n",
    "        'o','p','q','r','s','t','u','v','w','x',\n",
    "    )\n",
    "\n",
    "    # initialize class\n",
    "    def __init__(self, number: str, base1: int, base2: int):\n",
    "        self.number_b1 = number\n",
    "        self.base1 = base1\n",
    "        self.number_b2 = 0\n",
    "        self.base2 = base2\n",
    "        self.number_b10 = 0\n",
    "\n",
    "    def translate_to_ten(self):\n",
    "        number_arr = [self.translation.index(i) for i in self.number_b1]\n",
    "        number_arr.reverse()\n",
    "        for i, num in zip(range(len(number_arr)), number_arr):\n",
    "            self.number_b10 += num*(self.base1**i)\n",
    "            if num > self.base1-1:\n",
    "                raise ArithmeticError(f\"You cant use '{self.translation[num]}' in {self.base1} system\")\n",
    "\n",
    "    def translate_to_base(self, next = None, result = None ):\n",
    "        if next is None or result is None:\n",
    "\t        next = self.number_b10\n",
    "\t        result = []\n",
    "        if next>=self.base2:\n",
    "            result.append(next % self.base2)\n",
    "            next //= self.base2\n",
    "            self.translate_to_base(next, result)\n",
    "        else:\n",
    "            result.append(next)\n",
    "            result.reverse()\n",
    "            result = list(map(lambda x: self.translation[x], result))\n",
    "            self.number_b2 = ''.join(result)\n",
    "\n",
    "    def full_translate(self):\n",
    "        self.translate_to_ten()\n",
    "        self.translate_to_base()"
   ],
   "metadata": {
    "collapsed": false,
    "pycharm": {
     "name": "#%%\n"
    }
   }
  },
  {
   "cell_type": "markdown",
   "source": [
    "Задамо данні для конвертації\n",
    "> Нажаль GitHub не підтримує `input`, тому `Число`, `Базис числа` та `Базис конвертаціі` генеруються випадково\n",
    "\n",
    "Процес генерації створено таким чином:\n",
    "* Генерується число довжиною від 3 до 60\n",
    "* Шанс числа опинитися у системі з базисом від 40 до 50 вище, ніж від 50 до 60. А від 30 до 40 вище, ніж від 40 до 50, і т.д.\n",
    "* Відповідно до знаків, що є у числі генерується випадковий базис, мінімально такий, щоб усі символи числа могли у ньому існувати\n",
    "* Максимально базис набуває значення базис + 10, але не більше 60\n",
    "* Генерується базис у який буде конвертоване число при чому цей базис завжди меньший за базис числа"
   ],
   "metadata": {
    "collapsed": false
   }
  },
  {
   "cell_type": "code",
   "execution_count": 492,
   "outputs": [],
   "source": [
    "from random import choices, randint\n",
    "weights = []\n",
    "for i in [10000,5000,1000,500,50,1]:\n",
    "    for _ in range(0,10):\n",
    "        weights.append(i)\n",
    "num = ''.join(choices(Converter.translation, weights=weights, k=randint(3,20)))\n",
    "border = max([Converter.translation.index(i) for i in num])+1\n",
    "if border > 50:\n",
    "    top_border = 60\n",
    "else:\n",
    "    top_border = randint(border, border+10)\n",
    "b1 = randint(border,top_border)\n",
    "b2 = randint(2,b1-1)"
   ],
   "metadata": {
    "collapsed": false,
    "pycharm": {
     "name": "#%%\n"
    }
   }
  },
  {
   "cell_type": "markdown",
   "source": [
    "Ініціюємо конвертер, та виконаємо конвертацію"
   ],
   "metadata": {
    "collapsed": false
   }
  },
  {
   "cell_type": "code",
   "execution_count": 493,
   "outputs": [],
   "source": [
    "converter = Converter(num, int(b1), int(b2))\n",
    "converter.full_translate()"
   ],
   "metadata": {
    "collapsed": false,
    "pycharm": {
     "name": "#%%\n"
    }
   }
  },
  {
   "cell_type": "markdown",
   "source": [
    "Виведемо результат"
   ],
   "metadata": {
    "collapsed": false
   }
  },
  {
   "cell_type": "code",
   "execution_count": 494,
   "outputs": [
    {
     "name": "stdout",
     "output_type": "stream",
     "text": [
      "Число з базисом 9: 4406808\n",
      "Число з базисом 10: 2366990\n",
      "Число з базисом 4: 21001320032\n"
     ]
    }
   ],
   "source": [
    "print(f'Число з базисом {b1}: {converter.number_b1}')\n",
    "print(f'Число з базисом {10}: {converter.number_b10}')\n",
    "print(f'Число з базисом {b2}: {converter.number_b2}')\n",
    "\n"
   ],
   "metadata": {
    "collapsed": false,
    "pycharm": {
     "name": "#%%\n"
    }
   }
  }
 ],
 "metadata": {
  "kernelspec": {
   "name": "pycharm-9413de9",
   "language": "python",
   "display_name": "PyCharm (SWaA)"
  },
  "language_info": {
   "codemirror_mode": {
    "name": "ipython",
    "version": 2
   },
   "file_extension": ".py",
   "mimetype": "text/x-python",
   "name": "python",
   "nbconvert_exporter": "python",
   "pygments_lexer": "ipython2",
   "version": "2.7.6"
  }
 },
 "nbformat": 4,
 "nbformat_minor": 0
}
